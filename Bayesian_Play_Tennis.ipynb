{
 "cells": [
  {
   "cell_type": "markdown",
   "metadata": {
    "collapsed": true
   },
   "source": [
    " "
   ]
  },
  {
   "cell_type": "markdown",
   "metadata": {
    "collapsed": true
   },
   "source": [
    "Dataset needed: Tennis weather from within (https://computersciencesource.wordpress.com/2010/01/28/year-2-machine-learning-naive-bayes-classifier/)"
   ]
  },
  {
   "cell_type": "markdown",
   "metadata": {},
   "source": [
    "## Naïve Bayes"
   ]
  },
  {
   "cell_type": "markdown",
   "metadata": {},
   "source": [
    "Train a Naïve Bayes model on the datset that appears as a table in the referenced URL."
   ]
  },
  {
   "cell_type": "code",
   "execution_count": 50,
   "metadata": {
    "collapsed": true
   },
   "outputs": [],
   "source": [
    "library(e1071)\n",
    "library(dplyr)"
   ]
  },
  {
   "cell_type": "code",
   "execution_count": 51,
   "metadata": {
    "collapsed": true
   },
   "outputs": [],
   "source": [
    "read.tennis = function(file){\n",
    "  ## Read the csv file\n",
    "  tennis <- read.csv(file, header = TRUE, \n",
    "                      stringsAsFactors = FALSE)\n",
    "}\n",
    "tennis = read.tennis(file='tennis.csv')"
   ]
  },
  {
   "cell_type": "code",
   "execution_count": 52,
   "metadata": {
    "scrolled": true
   },
   "outputs": [
    {
     "name": "stdout",
     "output_type": "stream",
     "text": [
      "'data.frame':\t14 obs. of  6 variables:\n",
      " $ Day         : int  1 2 3 4 5 6 7 8 9 10 ...\n",
      " $ Outlook     : chr  \"Sunny\" \"Sunny\" \"Overcast\" \"Rain\" ...\n",
      " $ Temperature : chr  \"Hot\" \"Hot\" \"Hot\" \"Mild\" ...\n",
      " $ Humidity    : chr  \"High\" \"High\" \"High\" \"High\" ...\n",
      " $ Wind        : chr  \"Weak\" \"Strong\" \"Weak\" \"Weak\" ...\n",
      " $ Play.Tennis.: chr  \"No\" \"No\" \"Yes\" \"Yes\" ...\n"
     ]
    }
   ],
   "source": [
    "str(tennis)"
   ]
  },
  {
   "cell_type": "code",
   "execution_count": 53,
   "metadata": {
    "collapsed": true
   },
   "outputs": [],
   "source": [
    "colnames(tennis)[6] = \"Play.Tennis\"\n",
    "tennis2 = select(tennis, -Day)"
   ]
  },
  {
   "cell_type": "code",
   "execution_count": 54,
   "metadata": {},
   "outputs": [
    {
     "name": "stdout",
     "output_type": "stream",
     "text": [
      "'data.frame':\t14 obs. of  5 variables:\n",
      " $ Outlook    : chr  \"Sunny\" \"Sunny\" \"Overcast\" \"Rain\" ...\n",
      " $ Temperature: chr  \"Hot\" \"Hot\" \"Hot\" \"Mild\" ...\n",
      " $ Humidity   : chr  \"High\" \"High\" \"High\" \"High\" ...\n",
      " $ Wind       : chr  \"Weak\" \"Strong\" \"Weak\" \"Weak\" ...\n",
      " $ Play.Tennis: chr  \"No\" \"No\" \"Yes\" \"Yes\" ...\n"
     ]
    }
   ],
   "source": [
    "str(tennis2)"
   ]
  },
  {
   "cell_type": "code",
   "execution_count": 55,
   "metadata": {
    "collapsed": true
   },
   "outputs": [],
   "source": [
    "tennis2$Play.Tennis = as.numeric(tennis2$Play.Tennis == \"Yes\")"
   ]
  },
  {
   "cell_type": "code",
   "execution_count": 56,
   "metadata": {},
   "outputs": [
    {
     "data": {
      "text/plain": [
       "\n",
       "Naive Bayes Classifier for Discrete Predictors\n",
       "\n",
       "Call:\n",
       "naiveBayes.default(x = X, y = Y, laplace = laplace)\n",
       "\n",
       "A-priori probabilities:\n",
       "Y\n",
       "        0         1 \n",
       "0.3571429 0.6428571 \n",
       "\n",
       "Conditional probabilities:\n",
       "   Outlook\n",
       "Y    Overcast      Rain     Sunny\n",
       "  0 0.0000000 0.4000000 0.6000000\n",
       "  1 0.4444444 0.3333333 0.2222222\n",
       "\n",
       "   Temperature\n",
       "Y        Cool       Hot      Mild\n",
       "  0 0.2000000 0.4000000 0.4000000\n",
       "  1 0.3333333 0.2222222 0.4444444\n",
       "\n",
       "   Humidity\n",
       "Y        High    Normal\n",
       "  0 0.8000000 0.2000000\n",
       "  1 0.3333333 0.6666667\n",
       "\n",
       "   Wind\n",
       "Y      Strong      Weak\n",
       "  0 0.6000000 0.4000000\n",
       "  1 0.3333333 0.6666667\n"
      ]
     },
     "metadata": {},
     "output_type": "display_data"
    }
   ],
   "source": [
    "tennis.NB = naiveBayes(Play.Tennis ~., data = tennis2)\n",
    "tennis.NB"
   ]
  },
  {
   "cell_type": "code",
   "execution_count": 57,
   "metadata": {
    "collapsed": true
   },
   "outputs": [],
   "source": [
    "tennis2$Outlook = as.numeric(tennis2$Outlook == \"Sunny\")\n",
    "tennis2$Temperature = as.numeric(tennis2$Temperature == \"Hot\")\n",
    "tennis2$Humidity = as.numeric(tennis2$Humidity == \"High\")\n",
    "tennis2$Wind = as.numeric(tennis2$Wind == \"Weak\")"
   ]
  },
  {
   "cell_type": "code",
   "execution_count": 58,
   "metadata": {
    "collapsed": true
   },
   "outputs": [],
   "source": [
    "threshold = 0.5\n",
    "predictprob.NB = predict(tennis.NB, newdata = tennis2, type = 'raw')"
   ]
  },
  {
   "cell_type": "code",
   "execution_count": 59,
   "metadata": {
    "collapsed": true
   },
   "outputs": [],
   "source": [
    "threshold = 0.5\n",
    "actual = ifelse(tennis2$Play.Tennis, 1, 0)\n",
    "predict.NB = ifelse(predictprob.NB[,2] > threshold, 1,0)"
   ]
  },
  {
   "cell_type": "code",
   "execution_count": 60,
   "metadata": {},
   "outputs": [
    {
     "name": "stdout",
     "output_type": "stream",
     "text": [
      "         Actual\n",
      "Predicted 0 1\n",
      "        0 3 3\n",
      "        1 2 6\n",
      "[1] \" \"\n",
      "[1] 0.6428571\n"
     ]
    }
   ],
   "source": [
    "confusionNB = table(predict.NB, actual, dnn =c(\"Predicted\", \"Actual\"))\n",
    "Accuracy = sum(confusionNB[c(1,4)])/sum(confusionNB)\n",
    "print(confusionNB)\n",
    "print(\" \")\n",
    "print(Accuracy)\n",
    "                    "
   ]
  },
  {
   "cell_type": "markdown",
   "metadata": {},
   "source": [
    "### The accuracy of the above trained model is only 64%"
   ]
  },
  {
   "cell_type": "markdown",
   "metadata": {},
   "source": [
    "##  Bayesian Nets"
   ]
  },
  {
   "cell_type": "markdown",
   "metadata": {},
   "source": [
    "Shingles is a possible cause of nerve damage and is also an explanation for increased blood pressure. In turn, either of these could cause a stroke. Severe headaches could also be explained by nerve damage.\n",
    "\n",
    "a: shingles\n",
    "b: increased blood pressure\n",
    "c: nerve damage\n",
    "d: stroke\n",
    "e: severe headaches\n",
    "\n",
    "Create a Bayesian net that captures these relationships."
   ]
  },
  {
   "cell_type": "markdown",
   "metadata": {
    "collapsed": true
   },
   "source": [
    "Use these probabilities:  P(a)=0.2,P(b|a)=0.75,P(b|¬a) = 0.25,P(c|a)=0.2,Pr(c|¬a)=0.05, P(e|c)=0.8,Pr(e|¬c)=0.6, P (d|b∧c)=0.8,P(d|b∧ ¬c)=0.8,P(d|¬b ∧ c)=0.8,P(d|¬b ∧ ¬c)=0.05"
   ]
  },
  {
   "cell_type": "markdown",
   "metadata": {},
   "source": [
    "Train this dataset. Predict value of ) P(shingles|¬severe headaches)"
   ]
  },
  {
   "cell_type": "markdown",
   "metadata": {},
   "source": [
    "# Bayesian network for shingles"
   ]
  },
  {
   "cell_type": "code",
   "execution_count": 61,
   "metadata": {
    "collapsed": true
   },
   "outputs": [],
   "source": [
    "library(bnlearn)"
   ]
  },
  {
   "cell_type": "code",
   "execution_count": 62,
   "metadata": {},
   "outputs": [
    {
     "data": {
      "text/plain": [
       "\n",
       "  Random/Generated Bayesian network\n",
       "\n",
       "  model:\n",
       "   [a][b][c][d][e] \n",
       "  nodes:                                 5 \n",
       "  arcs:                                  0 \n",
       "    undirected arcs:                     0 \n",
       "    directed arcs:                       0 \n",
       "  average markov blanket size:           0.00 \n",
       "  average neighbourhood size:            0.00 \n",
       "  average branching factor:              0.00 \n",
       "\n",
       "  generation algorithm:                  Empty \n"
      ]
     },
     "metadata": {},
     "output_type": "display_data"
    }
   ],
   "source": [
    "shingles = empty.graph(letters[1:5])\n",
    "shingles"
   ]
  },
  {
   "cell_type": "code",
   "execution_count": 63,
   "metadata": {},
   "outputs": [
    {
     "data": {
      "text/html": [
       "<table>\n",
       "<thead><tr><th scope=col>from</th><th scope=col>to</th></tr></thead>\n",
       "<tbody>\n",
       "\t<tr><td>a</td><td>c</td></tr>\n",
       "\t<tr><td>a</td><td>b</td></tr>\n",
       "\t<tr><td>c</td><td>d</td></tr>\n",
       "\t<tr><td>b</td><td>d</td></tr>\n",
       "\t<tr><td>c</td><td>e</td></tr>\n",
       "</tbody>\n",
       "</table>\n"
      ],
      "text/latex": [
       "\\begin{tabular}{ll}\n",
       " from & to\\\\\n",
       "\\hline\n",
       "\t a & c\\\\\n",
       "\t a & b\\\\\n",
       "\t c & d\\\\\n",
       "\t b & d\\\\\n",
       "\t c & e\\\\\n",
       "\\end{tabular}\n"
      ],
      "text/markdown": [
       "\n",
       "from | to | \n",
       "|---|---|---|---|---|\n",
       "| a | c | \n",
       "| a | b | \n",
       "| c | d | \n",
       "| b | d | \n",
       "| c | e | \n",
       "\n",
       "\n"
      ],
      "text/plain": [
       "     from to\n",
       "[1,] a    c \n",
       "[2,] a    b \n",
       "[3,] c    d \n",
       "[4,] b    d \n",
       "[5,] c    e "
      ]
     },
     "metadata": {},
     "output_type": "display_data"
    }
   ],
   "source": [
    "arc.set = matrix(c(\"a\", \"c\", \"a\", \"b\", \"c\", \"d\", \"b\",\"d\",\"c\",\"e\"),\n",
    "            ncol = 2, byrow = TRUE,\n",
    "            dimnames = list(NULL, c(\"from\", \"to\")))\n",
    "arc.set"
   ]
  },
  {
   "cell_type": "code",
   "execution_count": 64,
   "metadata": {
    "scrolled": true
   },
   "outputs": [
    {
     "data": {
      "text/plain": [
       "\n",
       "  Random/Generated Bayesian network\n",
       "\n",
       "  model:\n",
       "   [a][b|a][c|a][d|b:c][e|c] \n",
       "  nodes:                                 5 \n",
       "  arcs:                                  5 \n",
       "    undirected arcs:                     0 \n",
       "    directed arcs:                       5 \n",
       "  average markov blanket size:           2.40 \n",
       "  average neighbourhood size:            2.00 \n",
       "  average branching factor:              1.00 \n",
       "\n",
       "  generation algorithm:                  Empty \n"
      ]
     },
     "metadata": {},
     "output_type": "display_data"
    }
   ],
   "source": [
    "arcs(shingles) = arc.set\n",
    "shingles"
   ]
  },
  {
   "cell_type": "code",
   "execution_count": 65,
   "metadata": {
    "collapsed": true
   },
   "outputs": [],
   "source": [
    "shingles.dag = model2network(\"[a][b|a][c|a][d|b:c][e|c]\")"
   ]
  },
  {
   "cell_type": "code",
   "execution_count": 66,
   "metadata": {},
   "outputs": [
    {
     "data": {
      "image/png": "[encoded data removed]",
      "text/plain": [
       "plot without title"
      ]
     },
     "metadata": {},
     "output_type": "display_data"
    }
   ],
   "source": [
    "options(repr.plot.width = 4, repr.plot.height = 3)\n",
    "hlight = list(nodes = c(\"a\", \"b\"),arcs = c(\"c\", \"d\"),col = \"grey\",textCol = \"grey\")\n",
    "pp = graphviz.plot(shingles.dag, highlight = hlight)"
   ]
  },
  {
   "cell_type": "code",
   "execution_count": 67,
   "metadata": {
    "collapsed": true
   },
   "outputs": [],
   "source": [
    "shingles.dag = model2network(\"[a][b|a][c|a][d|b:c][e|c]\")\n",
    "lv = c(\"yes\", \"no\")\n",
    "a.prob = array(c(0.2, 0.8), dim = 2, dimnames = list(a = lv))\n",
    "b.prob = array(c(0.75, 0.25,0.25,0.75), dim = c(2,2), dimnames = list(b= lv, a = lv))\n",
    "c.prob = array(c(0.2,0.8, 0.05,0.95), dim = c(2,2), dimnames = list(c = lv, a = lv))\n",
    "e.prob = array(c(0.8,0.2,0.6,0.4), dim = c(2,2), dimnames = list(e = lv, c = lv))\n",
    "d.prob = array(c(0.8, 0.2, 0.8, 0.2, 0.8,0.2, 0.05, 0.95), dim = c(2, 2, 2),dimnames = list(d = lv, c = lv, b = lv))\n",
    "cpt = list(a = a.prob, b = b.prob, c = c.prob, d = d.prob, e = e.prob)\n",
    "bn = custom.fit(shingles.dag, cpt)"
   ]
  },
  {
   "cell_type": "code",
   "execution_count": 68,
   "metadata": {},
   "outputs": [
    {
     "data": {
      "text/plain": [
       "\n",
       "  Bayesian network parameters\n",
       "\n",
       "  Parameters of node a (multinomial distribution)\n",
       "\n",
       "Conditional probability table:\n",
       " a\n",
       "yes  no \n",
       "0.2 0.8 \n",
       "\n",
       "  Parameters of node b (multinomial distribution)\n",
       "\n",
       "Conditional probability table:\n",
       " \n",
       "     a\n",
       "b      yes   no\n",
       "  yes 0.75 0.25\n",
       "  no  0.25 0.75\n",
       "\n",
       "  Parameters of node c (multinomial distribution)\n",
       "\n",
       "Conditional probability table:\n",
       " \n",
       "     a\n",
       "c      yes   no\n",
       "  yes 0.20 0.05\n",
       "  no  0.80 0.95\n",
       "\n",
       "  Parameters of node d (multinomial distribution)\n",
       "\n",
       "Conditional probability table:\n",
       " \n",
       ", , c = yes\n",
       "\n",
       "     b\n",
       "d      yes   no\n",
       "  yes 0.80 0.80\n",
       "  no  0.20 0.20\n",
       "\n",
       ", , c = no\n",
       "\n",
       "     b\n",
       "d      yes   no\n",
       "  yes 0.80 0.05\n",
       "  no  0.20 0.95\n",
       "\n",
       "\n",
       "  Parameters of node e (multinomial distribution)\n",
       "\n",
       "Conditional probability table:\n",
       " \n",
       "     c\n",
       "e     yes  no\n",
       "  yes 0.8 0.6\n",
       "  no  0.2 0.4\n"
      ]
     },
     "metadata": {},
     "output_type": "display_data"
    }
   ],
   "source": [
    "bn"
   ]
  },
  {
   "cell_type": "markdown",
   "metadata": {},
   "source": [
    "P(shingles|$\\neg$severe headaches), that is the probability of having shingles without severe\n",
    "headaches should be the equal to the probability of having shingles without nerve damage, since nerve damage from shingles causes headaches. From the above conditional probability tables,\n",
    "P(shingles|$\\neg$nerve damage) = 0.25. So P(shingles|$\\neg$headache = 0.25."
   ]
  }
 ],
 "metadata": {
  "kernelspec": {
   "display_name": "R",
   "language": "R",
   "name": "ir"
  },
  "language_info": {
   "codemirror_mode": "r",
   "file_extension": ".r",
   "mimetype": "text/x-r-source",
   "name": "R",
   "pygments_lexer": "r",
   "version": "3.3.2"
  }
 },
 "nbformat": 4,
 "nbformat_minor": 2
}
